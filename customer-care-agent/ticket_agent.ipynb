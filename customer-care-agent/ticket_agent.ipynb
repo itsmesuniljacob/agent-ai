{
 "cells": [
  {
   "cell_type": "code",
   "execution_count": null,
   "id": "56f66c14",
   "metadata": {},
   "outputs": [
    {
     "name": "stdout",
     "output_type": "stream",
     "text": [
      "Escalating issue to manager:  Refund request for a watch due to system malfunction\n",
      "Ticket number:  N/A\n",
      "Why:  The customer is unable to process the refund through the system.\n",
      "Creating ticket for issue:  {'Refund request for a watch due to system malfunction.'}\n",
      "I've created a ticket for your refund request regarding the watch. Your ticket number is **6859**. If you need further assistance, feel free to ask!\n"
     ]
    }
   ],
   "source": [
    "from agents import Agent, Runner, RunContextWrapper, trace, handoff, function_tool, trace\n",
    "from pydantic import BaseModel\n",
    "from dotenv import load_dotenv\n",
    "import random\n",
    "\n",
    "\n",
    "load_dotenv(override=True)\n",
    "\n",
    "class ManagerEscalation(BaseModel):\n",
    "    issue: str\n",
    "    ticket_number: str\n",
    "    why: str\n",
    "\n",
    "@function_tool\n",
    "def create_ticket(issue: str):\n",
    "    tkt_no = random.randint(1000, 9999)\n",
    "    print('Creating ticket for issue: ', {issue})\n",
    "    return f\"Ticket created for issue: {issue} with ticket number: {tkt_no}\"\n",
    "\n",
    "def ticket_agent_handoff(ctx: RunContextWrapper[None], input: ManagerEscalation):\n",
    "    print('Escalating issue to manager: ', input.issue)\n",
    "    print('Ticket number: ', input.ticket_number)\n",
    "    print('Why: ', input.why)\n",
    "    return f\"Escalated issue to manager: {input.issue} with ticket number: {input.ticket_number}\"\n",
    "\n",
    "ticket_agent = Agent(\n",
    "    name=\"Ticket Agent\",\n",
    "    instructions=\"You resolve tickets and return the ticket number.\",\n",
    "    model=\"gpt-4o-mini\",\n",
    "    tools=[create_ticket],\n",
    ")\n",
    "\n",
    "customer_care_agent = Agent(\n",
    "    name=\"Customer Care Agent\",\n",
    "    instructions=\"You assist customers with their issues and resolve tickets.\"\n",
    "                 \"If you can resolve the issue, escalate the issue and return the ticket number.\",\n",
    "    handoffs=[handoff(\n",
    "        ticket_agent,\n",
    "        on_handoff=ticket_agent_handoff,\n",
    "        input_type=ManagerEscalation\n",
    "        )],\n",
    "    model=\"gpt-4o-mini\",\n",
    ")\n",
    "\n",
    "runner = Runner()\n",
    "result = await runner.run(customer_care_agent, \"I want refund for my watch, but your system is not working.\")\n",
    "print(result.final_output)"
   ]
  },
  {
   "cell_type": "code",
   "execution_count": null,
   "id": "42e0cf5d",
   "metadata": {},
   "outputs": [],
   "source": []
  }
 ],
 "metadata": {
  "kernelspec": {
   "display_name": ".venv",
   "language": "python",
   "name": "python3"
  },
  "language_info": {
   "codemirror_mode": {
    "name": "ipython",
    "version": 3
   },
   "file_extension": ".py",
   "mimetype": "text/x-python",
   "name": "python",
   "nbconvert_exporter": "python",
   "pygments_lexer": "ipython3",
   "version": "3.12.11"
  }
 },
 "nbformat": 4,
 "nbformat_minor": 5
}
