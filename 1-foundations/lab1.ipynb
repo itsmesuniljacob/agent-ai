{
 "cells": [
  {
   "cell_type": "code",
   "execution_count": 8,
   "metadata": {},
   "outputs": [
    {
     "data": {
      "text/plain": [
       "True"
      ]
     },
     "execution_count": 8,
     "metadata": {},
     "output_type": "execute_result"
    }
   ],
   "source": [
    "from dotenv import load_dotenv\n",
    "load_dotenv(override=True)"
   ]
  },
  {
   "cell_type": "code",
   "execution_count": 12,
   "metadata": {},
   "outputs": [
    {
     "name": "stdout",
     "output_type": "stream",
     "text": [
      "gsk\n"
     ]
    }
   ],
   "source": [
    "import os\n",
    "groq_api_key = os.getenv('GROQ_API_KEY')\n",
    "print(groq_api_key[:3])"
   ]
  },
  {
   "cell_type": "code",
   "execution_count": 13,
   "metadata": {},
   "outputs": [
    {
     "name": "stdout",
     "output_type": "stream",
     "text": [
      "ModelListResponse(data=[Model(id='compound-beta', created=1740880017, object='model', owned_by='Groq', active=True, context_window=131072, public_apps=None, max_completion_tokens=8192), Model(id='whisper-large-v3-turbo', created=1728413088, object='model', owned_by='OpenAI', active=True, context_window=448, public_apps=None, max_completion_tokens=448), Model(id='whisper-large-v3', created=1693721698, object='model', owned_by='OpenAI', active=True, context_window=448, public_apps=None, max_completion_tokens=448), Model(id='meta-llama/llama-guard-4-12b', created=1746743847, object='model', owned_by='Meta', active=True, context_window=131072, public_apps=None, max_completion_tokens=1024), Model(id='llama3-70b-8192', created=1693721698, object='model', owned_by='Meta', active=True, context_window=8192, public_apps=None, max_completion_tokens=8192), Model(id='meta-llama/llama-4-scout-17b-16e-instruct', created=1743874824, object='model', owned_by='Meta', active=True, context_window=131072, public_apps=None, max_completion_tokens=8192), Model(id='playai-tts', created=1740682771, object='model', owned_by='PlayAI', active=True, context_window=8192, public_apps=None, max_completion_tokens=8192), Model(id='compound-beta-mini', created=1742953279, object='model', owned_by='Groq', active=True, context_window=131072, public_apps=None, max_completion_tokens=8192), Model(id='llama3-8b-8192', created=1693721698, object='model', owned_by='Meta', active=True, context_window=8192, public_apps=None, max_completion_tokens=8192), Model(id='deepseek-r1-distill-llama-70b', created=1737924940, object='model', owned_by='DeepSeek / Meta', active=True, context_window=131072, public_apps=None, max_completion_tokens=131072), Model(id='llama-3.1-8b-instant', created=1693721698, object='model', owned_by='Meta', active=True, context_window=131072, public_apps=None, max_completion_tokens=131072), Model(id='playai-tts-arabic', created=1740682783, object='model', owned_by='PlayAI', active=True, context_window=8192, public_apps=None, max_completion_tokens=8192), Model(id='allam-2-7b', created=1737672203, object='model', owned_by='SDAIA', active=True, context_window=4096, public_apps=None, max_completion_tokens=4096), Model(id='qwen/qwen3-32b', created=1748396646, object='model', owned_by='Alibaba Cloud', active=True, context_window=131072, public_apps=None, max_completion_tokens=40960), Model(id='meta-llama/llama-4-maverick-17b-128e-instruct', created=1743877158, object='model', owned_by='Meta', active=True, context_window=131072, public_apps=None, max_completion_tokens=8192), Model(id='llama-3.3-70b-versatile', created=1733447754, object='model', owned_by='Meta', active=True, context_window=131072, public_apps=None, max_completion_tokens=32768), Model(id='qwen-qwq-32b', created=1741214760, object='model', owned_by='Alibaba Cloud', active=True, context_window=131072, public_apps=None, max_completion_tokens=131072), Model(id='meta-llama/llama-prompt-guard-2-86m', created=1748632165, object='model', owned_by='Meta', active=True, context_window=512, public_apps=None, max_completion_tokens=512), Model(id='distil-whisper-large-v3-en', created=1693721698, object='model', owned_by='Hugging Face', active=True, context_window=448, public_apps=None, max_completion_tokens=448), Model(id='meta-llama/llama-prompt-guard-2-22m', created=1748632101, object='model', owned_by='Meta', active=True, context_window=512, public_apps=None, max_completion_tokens=512), Model(id='gemma2-9b-it', created=1693721698, object='model', owned_by='Google', active=True, context_window=8192, public_apps=None, max_completion_tokens=8192), Model(id='mistral-saba-24b', created=1739996492, object='model', owned_by='Mistral AI', active=True, context_window=32768, public_apps=None, max_completion_tokens=32768)], object='list')\n"
     ]
    }
   ],
   "source": [
    "from groq import Groq\n",
    "\n",
    "groq = Groq()\n",
    "\n",
    "print(groq.models.list())"
   ]
  },
  {
   "cell_type": "code",
   "execution_count": 18,
   "metadata": {},
   "outputs": [
    {
     "name": "stdout",
     "output_type": "stream",
     "text": [
      "The answer is 4!\n"
     ]
    }
   ],
   "source": [
    "messages = [ {\"role\": \"user\", \"content\": \"What is 2 + 2?\", \"name\": \"Sunil\"}\n",
    "            ]\n",
    "\n",
    "response = groq.chat.completions.create(\n",
    "    model=\"llama3-8b-8192\",\n",
    "    messages=messages\n",
    ")\n",
    "\n",
    "print(response.choices[0].message.content)"
   ]
  },
  {
   "cell_type": "code",
   "execution_count": 21,
   "metadata": {},
   "outputs": [
    {
     "name": "stdout",
     "output_type": "stream",
     "text": [
      "Agent AI can significantly help in solving Kubernetes problems by providing proactive monitoring, intelligent troubleshooting, and autonomous remediation. Here are some possible ways Agent AI can assist:\n",
      "\n",
      "1. **Anomaly Detection**: Agent AI can identify unusual patterns in Kubernetes cluster behavior, detecting potential issues before they become critical. This enables early intervention and prevents minor problems from escalating into major outages.\n",
      "2. **Root Cause Analysis (RCA)**: By analyzing logs, metrics, and other data sources, Agent AI can perform RCA, identifying the root cause of a problem and guiding the user to the correct resolution.\n",
      "3. **Predictive Maintenance**: Agent AI can analyze historical data and predict when maintenance is required, such as pod restarts, to avoid downtime and ensure smooth operations.\n",
      "4. **Automated Troubleshooting**: Agent AI can automatically run a series of troubleshooting steps to identify and resolve common issues, freeing up human operators to focus on more complex problems.\n",
      "5. **Pod and Container Optimization**: Agent AI can analyze pod and container resource utilization, identifying opportunities for optimization and recommending adjustments to improve performance, reduce waste, and increase efficiency.\n",
      "6. **Network Policy and Security**: Agent AI can monitor network traffic and identify potential security threats, detecting misconfigured network policies and recommending remediation actions.\n",
      "7. **Node and Cluster Health**: Agent AI can monitor node and cluster health, detecting issues such as node failures, CPU spikes, or memory issues, and providing alerts and recommendations for corrective action.\n",
      "8. **Performance and Resource Utilization**: Agent AI can analyze CPU, memory, and other resource utilization, identifying bottlenecks and recommending optimizations to improve performance and efficiency.\n",
      "9. **Upgrade and Patch Management**: Agent AI can monitor cluster upgrades and patch releases, ensuring that the cluster is always up-to-date and secure, while minimizing downtime and disruptions.\n",
      "10. **Compliance and Governance**: Agent AI can monitor cluster configurations and deployments, identifying non-compliant or high-risk configurations, and providing recommendations to ensure compliance with regulatory requirements.\n",
      "\n",
      "Some possible troubleshoots that Agent AI can help with include:\n",
      "\n",
      "* ** Pod stuck in \"CrashLoopBackOff\" state**: Agent AI can analyze pod logs and metrics to identify the cause of the issue, such as a restart loop or a deadlock, and provide recommendations for resolution.\n",
      "* **Service not available or not responding**: Agent AI can analyze service traffic and logs to identify the cause of the issue, such as a dead or unreachable pod, and provide recommendations for resolution.\n",
      "* **High CPU or memory usage**: Agent AI can analyze pod and container resource utilization to identify the source of the issue, such as a CPU-hungry process or a memory leak, and provide recommendations for optimization.\n",
      "* **Error messages or log errors**: Agent AI can analyze error messages and log data to identify the root cause of the issue, such as a misconfigured deployment or a resource bottleneck, and provide recommendations for resolution.\n",
      "\n",
      "By incorporating Agent AI into their Kubernetes management workflow, organizations can reduce the likelihood of downtime, improve overall cluster performance, and increase the efficiency of their DevOps teams.\n"
     ]
    }
   ],
   "source": [
    "question=\"How do you think Agent AI can help in solving Kubernetes problems? Possible troubleshoots?\"\n",
    "\n",
    "messages = [ {\"role\": \"user\", \"content\": question}\n",
    "            ]\n",
    "\n",
    "response = groq.chat.completions.create(\n",
    "    model=\"llama3-8b-8192\",\n",
    "    messages=messages\n",
    ")\n",
    "\n",
    "answer=response.choices[0].message.content\n",
    "\n",
    "print(response.choices[0].message.content)"
   ]
  },
  {
   "cell_type": "code",
   "execution_count": 22,
   "metadata": {},
   "outputs": [
    {
     "data": {
      "text/markdown": [
       "Agent AI can significantly help in solving Kubernetes problems by providing proactive monitoring, intelligent troubleshooting, and autonomous remediation. Here are some possible ways Agent AI can assist:\n",
       "\n",
       "1. **Anomaly Detection**: Agent AI can identify unusual patterns in Kubernetes cluster behavior, detecting potential issues before they become critical. This enables early intervention and prevents minor problems from escalating into major outages.\n",
       "2. **Root Cause Analysis (RCA)**: By analyzing logs, metrics, and other data sources, Agent AI can perform RCA, identifying the root cause of a problem and guiding the user to the correct resolution.\n",
       "3. **Predictive Maintenance**: Agent AI can analyze historical data and predict when maintenance is required, such as pod restarts, to avoid downtime and ensure smooth operations.\n",
       "4. **Automated Troubleshooting**: Agent AI can automatically run a series of troubleshooting steps to identify and resolve common issues, freeing up human operators to focus on more complex problems.\n",
       "5. **Pod and Container Optimization**: Agent AI can analyze pod and container resource utilization, identifying opportunities for optimization and recommending adjustments to improve performance, reduce waste, and increase efficiency.\n",
       "6. **Network Policy and Security**: Agent AI can monitor network traffic and identify potential security threats, detecting misconfigured network policies and recommending remediation actions.\n",
       "7. **Node and Cluster Health**: Agent AI can monitor node and cluster health, detecting issues such as node failures, CPU spikes, or memory issues, and providing alerts and recommendations for corrective action.\n",
       "8. **Performance and Resource Utilization**: Agent AI can analyze CPU, memory, and other resource utilization, identifying bottlenecks and recommending optimizations to improve performance and efficiency.\n",
       "9. **Upgrade and Patch Management**: Agent AI can monitor cluster upgrades and patch releases, ensuring that the cluster is always up-to-date and secure, while minimizing downtime and disruptions.\n",
       "10. **Compliance and Governance**: Agent AI can monitor cluster configurations and deployments, identifying non-compliant or high-risk configurations, and providing recommendations to ensure compliance with regulatory requirements.\n",
       "\n",
       "Some possible troubleshoots that Agent AI can help with include:\n",
       "\n",
       "* ** Pod stuck in \"CrashLoopBackOff\" state**: Agent AI can analyze pod logs and metrics to identify the cause of the issue, such as a restart loop or a deadlock, and provide recommendations for resolution.\n",
       "* **Service not available or not responding**: Agent AI can analyze service traffic and logs to identify the cause of the issue, such as a dead or unreachable pod, and provide recommendations for resolution.\n",
       "* **High CPU or memory usage**: Agent AI can analyze pod and container resource utilization to identify the source of the issue, such as a CPU-hungry process or a memory leak, and provide recommendations for optimization.\n",
       "* **Error messages or log errors**: Agent AI can analyze error messages and log data to identify the root cause of the issue, such as a misconfigured deployment or a resource bottleneck, and provide recommendations for resolution.\n",
       "\n",
       "By incorporating Agent AI into their Kubernetes management workflow, organizations can reduce the likelihood of downtime, improve overall cluster performance, and increase the efficiency of their DevOps teams."
      ],
      "text/plain": [
       "<IPython.core.display.Markdown object>"
      ]
     },
     "metadata": {},
     "output_type": "display_data"
    }
   ],
   "source": [
    "from IPython.display import Markdown,display\n",
    "\n",
    "display(Markdown(answer))"
   ]
  },
  {
   "cell_type": "code",
   "execution_count": 23,
   "metadata": {},
   "outputs": [
    {
     "name": "stdout",
     "output_type": "stream",
     "text": [
      "What a fascinating combination! Here's a business idea for a startup that leverages Agent AI in the field of Kubernetes:\n",
      "\n",
      "**Business Idea:** \"KubeMind\" - An AI-powered Kubernetes Orchestration Platform for Hyper-Scalable Cloud Infrastructure\n",
      "\n",
      "**Problem Statement:** Kubernetes is a powerful container orchestration system, but managing and optimizing its performance, scalability, and security can be a daunting task, especially for large-scale cloud infrastructure. Humans can become overwhelmed by the complexity of Kubernetes' configuration, troubleshooting, and monitoring. Existing tools often rely on manual configuration, rule-based systems, or generic monitoring platforms, which can result in suboptimal performance, security breaches, or downtime.\n",
      "\n",
      "**Solution:** KubeMind uses Agent AI to develop an intelligent, adaptive, and autonomous Kubernetes orchestration platform, KubeMind-OS. This platform combines advanced machine learning, natural language processing, and human expertise to automate Kubernetes management, ensuring optimal performance, scalability, and security for hyper-scale cloud infrastructure.\n",
      "\n",
      "**Key Features:**\n",
      "\n",
      "1. **Autonomous Orchestration**: KubeMind-OS uses Agent AI to analyze workload requirements, network topology, and infrastructure constraints to optimize Kubernetes deployment, scaling, and management.\n",
      "2. **Smart Monitoring**: KubeMind-OS continuously monitors Kubernetes clusters, applications, and networks, identifying anomalies and potential issues before they impact performance or security.\n",
      "3. **AI-powered Troubleshooting**: When issues arise, KubeMind-OS uses machine learning to analyze large datasets, identify root causes, and recommend optimized resolution strategies.\n",
      "4. **Predictive Maintenance**: KubeMind-OS integrates with Kubernetes' self-healing mechanism to predict and prevent common issues, reducing downtime and improving overall application availability.\n",
      "5. **Human-AI Collaboration**: KubeMind-OS provides a GUI for human operators to review and validate AI-driven decisions, enabling collaboration between human expertise and AI-driven insights.\n",
      "\n",
      "**Market Opportunity:**\n",
      "\n",
      "1. **Growing Demand for Kubernetes**: As Kubernetes adoption grows, the need for efficient, scalable, and secure management solutions increases.\n",
      "2. **Rising Complexity of Cloud Infrastructure**: As organizations move to cloud-native applications, they require more sophisticated management tools to optimize performance, scalability, and security.\n",
      "3. **Limited Expertise and Time**: Businesses often struggle to find and retain skilled Kubernetes experts, leading to delays in implementation and optimization.\n",
      "\n",
      "**Competitive Advantage:**\n",
      "\n",
      "1. **Unique Focus on AI-powered Orchestration**: KubeMind is the first startup to focus specifically on AI-powered Kubernetes orchestration, differentiating itself from generic monitoring and automation tools.\n",
      "2. **Agent AI Technology**: KubeMind's proprietary Agent AI technology enables the platform to analyze complex data in real-time, making it more effective in predicting and resolving Kubernetes issues.\n",
      "3. **Scalability and Flexibility**: KubeMind-OS is designed to handle large-scale deployments, making it an attractive solution for organizations with complex cloud infrastructure.\n",
      "\n",
      "**Revenue Model:**\n",
      "\n",
      "1. **Subscription-based**: Offer KubeMind-OS as a cloud-based subscription service, with tiered pricing based on the number of Kubernetes clusters managed.\n",
      "2. **Custom Implementations**: Provide custom implementation services for large enterprises, integrating KubeMind-OS with their existing infrastructure and workflows.\n",
      "3. **Value-added Services**: Offer premium support, consulting, and training services to customers.\n",
      "\n",
      "**Conclusion:** KubeMind is poised to revolutionize the way Kubernetes is managed and optimized, leveraging Agent AI to create a more efficient, scalable, and secure platform for hyper-scale cloud infrastructure. With a unique focus on AI-powered orchestration, KubeMind is well-positioned to capture a significant share of the growing Kubernetes management market.\n"
     ]
    }
   ],
   "source": [
    "messages = [{\n",
    "    \"role\": \"user\",\n",
    "    \"content\": \"Give me a business idea for a startup using Agent AI in the field of Kubernetes\",\n",
    "}]\n",
    "\n",
    "response = groq.chat.completions.create(\n",
    "    model=\"llama3-8b-8192\",\n",
    "    messages=messages\n",
    ")\n",
    "\n",
    "idea = response.choices[0].message.content\n",
    "\n",
    "print(idea)"
   ]
  },
  {
   "cell_type": "code",
   "execution_count": 24,
   "metadata": {},
   "outputs": [
    {
     "data": {
      "text/markdown": [
       "The pain points in the business area of Kubernetes orchestration, which KubeMind aims to address, include:\n",
       "\n",
       "1. **Complexity overload**: Kubernetes' configuration, troubleshooting, and monitoring can be overwhelming for human operators, leading to mistakes, inefficiencies, and potential security breaches.\n",
       "2. **Lack of scalability**: Traditional management solutions may not be able to handle the growing scale and complexity of cloud-native applications, leading to performance issues and downtime.\n",
       "3. **Security concerns**: Kubernetes' open source nature and rapid evolution make it vulnerable to security threats, requiring constant monitoring and patching to prevent breaches.\n",
       "4. **Resource-intensive**: Manual configuration, troubleshooting, and monitoring can consume significant resources, including time, money, and personnel.\n",
       "5. **Limited expertise**: Finding and retaining skilled Kubernetes operators can be a challenge, leading to delays in implementation and optimization.\n",
       "6. **Inconsistent performance**: Without real-time monitoring and optimization, Kubernetes clusters may experience inconsistent performance, leading to suboptimal application availability and user experience.\n",
       "7. **Increasing downtime**: With the growing scale and complexity of cloud infrastructure, downtime can have significant business consequences, making it essential to predict and prevent issues.\n",
       "8. **Limited visibility**: Traditional monitoring tools may not provide real-time insights into Kubernetes clusters, making it difficult to identify issues and optimize performance.\n",
       "9. **Increased risk of misconfiguration**: The complexity of Kubernetes configuration can lead to misconfigurations, which can result in downtime, performance issues, and security breaches.\n",
       "10. **Insufficient automation**: Without automation, routine tasks, such as scaling, updating, and monitoring, can be time-consuming and error-prone, leading to inefficiencies and potential issues.\n",
       "\n",
       "By addressing these pain points, KubeMind's AI-powered Kubernetes orchestration platform aims to provide a more efficient, scalable, and secure solution for managing and optimizing Kubernetes clusters."
      ],
      "text/plain": [
       "<IPython.core.display.Markdown object>"
      ]
     },
     "metadata": {},
     "output_type": "display_data"
    }
   ],
   "source": [
    "messages = [ {\n",
    "    \"role\": \"user\",\n",
    "    \"content\": \"What are pain points in the business area of\" + idea + \"?\"\n",
    "    }]\n",
    "\n",
    "response = groq.chat.completions.create(\n",
    "    model=\"llama3-8b-8192\",\n",
    "    messages=messages\n",
    ")\n",
    "\n",
    "pain_points = response.choices[0].message.content\n",
    "\n",
    "display(Markdown(pain_points))"
   ]
  },
  {
   "cell_type": "code",
   "execution_count": 26,
   "metadata": {},
   "outputs": [
    {
     "data": {
      "text/markdown": [
       "A great question!\n",
       "\n",
       "To overcome the pain points in Kubernetes orchestration, KubeMind's AI-powered platform can offer the following agentic solutions:\n",
       "\n",
       "1. **Complexity overload**: KubeMind's AI can simplify Kubernetes configuration, troubleshooting, and monitoring by providing intuitive interfaces, automated troubleshooting, and real-time insights.\n",
       "2. **Lack of scalability**: KubeMind's scalable architecture can handle the growing scale and complexity of cloud-native applications, ensuring optimal performance and minimizing downtime.\n",
       "3. **Security concerns**: KubeMind's AI-powered security features can detect and prevent security threats in real-time, providing continuous monitoring and patching to ensure the security of Kubernetes clusters.\n",
       "4. **Resource-intensive**: KubeMind's automation capabilities can reduce the need for manual configuration, troubleshooting, and monitoring, freeing up resources for more strategic tasks.\n",
       "5. **Limited expertise**: KubeMind's AI-powered platform can provide training and guidance for Kubernetes operators, whether they are new to Kubernetes or need to upskill, ensuring efficient and effective cluster management.\n",
       "6. **Inconsistent performance**: KubeMind's AI can monitor and optimize Kubernetes clusters in real-time, ensuring consistent performance and optimizing application availability and user experience.\n",
       "7. **Increasing downtime**: KubeMind's predictive analytics and AI-powered monitoring can identify potential issues before they occur, enabling proactive maintenance and minimizing downtime.\n",
       "8. **Limited visibility**: KubeMind's real-time monitoring and analytics provide actionable insights into Kubernetes clusters, enabling swift issue resolution and optimization.\n",
       "9. **Increased risk of misconfiguration**: KubeMind's automated configuration management and AI-powered validation ensure that configurations are accurate, efficient, and secure.\n",
       "10. **Insufficient automation**: KubeMind's automation capabilities can automate routine tasks, such as scaling, updating, and monitoring, freeing up resources for more strategic tasks and reducing the risk of human error.\n",
       "\n",
       "By addressing these pain points, KubeMind's AI-powered Kubernetes orchestration platform can help organizations overcome the challenges associated with Kubernetes management, ensuring a more efficient, scalable, and secure cloud-native application environment."
      ],
      "text/plain": [
       "<IPython.core.display.Markdown object>"
      ]
     },
     "metadata": {},
     "output_type": "display_data"
    }
   ],
   "source": [
    "messages = [{\"role\": \"user\",\n",
    "    \"content\": \"How can we overcome or what is Agentic solution for the  \" + pain_points + \"?\"\n",
    "    }]\n",
    "\n",
    "response = groq.chat.completions.create(model=\"llama3-8b-8192\",messages=messages)\n",
    "solution = response.choices[0].message.content\n",
    "\n",
    "display(Markdown(solution))\n"
   ]
  },
  {
   "cell_type": "code",
   "execution_count": null,
   "metadata": {},
   "outputs": [],
   "source": []
  }
 ],
 "metadata": {
  "kernelspec": {
   "display_name": ".venv",
   "language": "python",
   "name": "python3"
  },
  "language_info": {
   "codemirror_mode": {
    "name": "ipython",
    "version": 3
   },
   "file_extension": ".py",
   "mimetype": "text/x-python",
   "name": "python",
   "nbconvert_exporter": "python",
   "pygments_lexer": "ipython3",
   "version": "3.12.11"
  }
 },
 "nbformat": 4,
 "nbformat_minor": 2
}
