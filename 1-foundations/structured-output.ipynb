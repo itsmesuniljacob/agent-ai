{
 "cells": [
  {
   "cell_type": "code",
   "execution_count": 6,
   "id": "7227234d",
   "metadata": {},
   "outputs": [
    {
     "name": "stderr",
     "output_type": "stream",
     "text": [
      "Instructions must be a string or a function, got ('You are an agent that can generate recipes. You will be given the name of the food and your job', ' is to output that as an actual recipe. The cooking time should be in minutes')\n"
     ]
    },
    {
     "name": "stdout",
     "output_type": "stream",
     "text": [
      "title='Omelette' ingredients=['4 large eggs', 'Salt to taste', 'Pepper to taste', '1 tablespoon butter', 'Optional fillings (cheese, vegetables, ham, herbs)'] instructions='1. Crack the eggs into a bowl and whisk them until well combined. Add a pinch of salt and pepper. 2. Heat a non-stick skillet over medium heat and add the butter. Let it melt and coat the pan. 3. Pour the whisked eggs into the skillet. Let it sit undisturbed for a few seconds until the edges start to set. 4. Using a spatula, gently lift the edges and tilt the pan so the uncooked egg flows to the edges. 5. When the top is slightly runny but the bottom is set, add your optional fillings on one half of the omelette. 6. Carefully fold the other half over the fillings. Cook for another minute until everything is heated through. 7. Slide onto a plate and serve hot.' cooking_time=10 servings=2 calories=200 protein=12 carbs=2 fat=15\n"
     ]
    }
   ],
   "source": [
    "from pydantic import BaseModel\n",
    "from agents import Agent, Runner\n",
    "\n",
    "class Recipe(BaseModel):\n",
    "    title: str\n",
    "    ingredients: list[str]\n",
    "    instructions: str\n",
    "    cooking_time: int\n",
    "    servings: int\n",
    "    calories: int\n",
    "    protein: int\n",
    "    carbs: int\n",
    "    fat: int\n",
    "    \n",
    "\n",
    "recipe_agent = Agent(\n",
    "    name=\"recipe\",\n",
    "    instructions=(\"You are an agent that can generate recipes. You will be given the name of the food and your job\",\n",
    "                  \" is to output that as an actual recipe. The cooking time should be in minutes\"),\n",
    "\n",
    "    model=\"gpt-4o-mini\",\n",
    "    output_type=Recipe\n",
    ")\n",
    "\n",
    "results= await Runner.run(recipe_agent,\"How to cook omlette\")\n",
    "print(results.final_output)\n",
    "# outputs = [result.final_output for result in results]\n",
    "# for output in outputs:\n",
    "#     print(output + \"\\n\\n\")"
   ]
  },
  {
   "cell_type": "code",
   "execution_count": null,
   "id": "1675168a",
   "metadata": {},
   "outputs": [],
   "source": []
  }
 ],
 "metadata": {
  "kernelspec": {
   "display_name": ".venv",
   "language": "python",
   "name": "python3"
  },
  "language_info": {
   "codemirror_mode": {
    "name": "ipython",
    "version": 3
   },
   "file_extension": ".py",
   "mimetype": "text/x-python",
   "name": "python",
   "nbconvert_exporter": "python",
   "pygments_lexer": "ipython3",
   "version": "3.12.11"
  }
 },
 "nbformat": 4,
 "nbformat_minor": 5
}
