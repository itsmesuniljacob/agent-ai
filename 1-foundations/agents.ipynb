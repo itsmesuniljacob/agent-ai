{
 "cells": [
  {
   "cell_type": "code",
   "execution_count": 2,
   "id": "e073a249",
   "metadata": {},
   "outputs": [
    {
     "name": "stdout",
     "output_type": "stream",
     "text": [
      "The word \"trepidation\" refers to a feeling of fear or agitation about something that may happen; it indicates apprehension or anxiety regarding a future event.\n"
     ]
    }
   ],
   "source": [
    "from agents import Agent, function_tool, Runner\n",
    "\n",
    "agent = Agent(\n",
    "    name=\"dictionary_agent\",\n",
    "    instructions=\"You are a dictionary agent. You are given a word and you need to return the definition of the word.\",\n",
    "    model=\"gpt-4o-mini\",\n",
    ")\n",
    "\n",
    "result = await Runner.run(agent, \"What is the definition of the word 'trepidation'?\")\n",
    "print(result.final_output)"
   ]
  },
  {
   "cell_type": "code",
   "execution_count": 4,
   "id": "0454874e",
   "metadata": {},
   "outputs": [
    {
     "name": "stdout",
     "output_type": "stream",
     "text": [
      "Why did the scarecrow win an award? \n",
      "\n",
      "Because he was outstanding in his field!\n",
      "Why did the computer network break up?\n",
      "\n",
      "Because it had too many issues with connectivity!\n"
     ]
    }
   ],
   "source": [
    "joke_agent = Agent(\n",
    "    name=\"joke_agent\",\n",
    "    instructions=\"You are a joke agent. You are given a topic and you need to return a joke about the topic.\",\n",
    "    model=\"gpt-4o-mini\",\n",
    ")\n",
    "\n",
    "result = await Runner.run(joke_agent, \"What is the best joke in the world?\")\n",
    "print(result.final_output)\n",
    "\n",
    "result = await Runner.run(joke_agent, \"Tell me a joke about computer networks?\")\n",
    "print(result.final_output)"
   ]
  },
  {
   "cell_type": "code",
   "execution_count": 6,
   "id": "23336b0b",
   "metadata": {},
   "outputs": [
    {
     "name": "stdout",
     "output_type": "stream",
     "text": [
      "Sure! Here are the top 5 activities to enjoy in Tokyo:\n",
      "\n",
      "1. **Visit Senso-ji Temple**: Explore Tokyo's oldest temple located in Asakusa. Don't forget to stroll through Nakamise Street for traditional snacks and souvenirs.\n",
      "\n",
      "2. **Experience Shibuya Crossing**: Witness one of the busiest pedestrian crossings in the world. It's an iconic Tokyo experience and a great spot for photography.\n",
      "\n",
      "3. **Explore Akihabara**: Dive into the otaku culture in Akihabara, known for its electronics shops, anime, and manga stores. You can also visit themed cafes like maid cafes.\n",
      "\n",
      "4. **Take a Day Trip to Mount Fuji**: Enjoy stunning views and outdoor activities like hiking or visiting the nearby hot springs in the Fuji Five Lakes area.\n",
      "\n",
      "5. **Stroll through Ueno Park**: Relax in this expansive park featuring museums, a zoo, and beautiful cherry blossoms in spring. It’s a perfect spot for a leisurely afternoon.\n",
      "\n",
      "Enjoy your Tokyo adventure!\n"
     ]
    }
   ],
   "source": [
    "vacation_agent = Agent(\n",
    "    name=\"vacation_agent\",\n",
    "    instructions=\"You are a vacation agent. You are given a destination and you need to return a list of activities to do in the destination.\",\n",
    "    model=\"gpt-4o-mini\",\n",
    ")\n",
    "\n",
    "result = await Runner.run(vacation_agent, \"What are top 5 activities to do in Tokyo?\")\n",
    "print(result.final_output)\n"
   ]
  },
  {
   "cell_type": "code",
   "execution_count": 8,
   "id": "81d387bd",
   "metadata": {},
   "outputs": [
    {
     "name": "stdout",
     "output_type": "stream",
     "text": [
      "Original Joke: Why was the equal sign so humble? \n",
      "\n",
      "Because it knew it wasn't less than or greater than anyone else!\n",
      "Translated Joke: Here's the joke translated into Malayalam:\n",
      "\n",
      "\"സമമായ അടിയുവിനെ എങ്ങനെ വ്യത്യസ്തമാകും?\"  \n",
      "\"കാരണം, അത് മറ്റാരുടെയും കുറവോ പെരുതോ എന്ന് അറിയാം!\"\n"
     ]
    }
   ],
   "source": [
    "language_agent = Agent(\n",
    "    name=\"language_agent\",\n",
    "    instructions=\"You are a language agent. You are given a joke and you need to translate it in a different language.\",\n",
    "    model=\"gpt-4o-mini\",\n",
    ")\n",
    "\n",
    "language = \"Malayalam\"\n",
    "topic=\"Maths\"\n",
    "joke_result = await Runner.run(joke_agent, topic)\n",
    "result = await Runner.run(language_agent, f\"Translate the following joke into {language}: {joke_result.final_output}\")\n",
    "print(f\"Original Joke: {joke_result.final_output}\")\n",
    "print(f\"Translated Joke: {result.final_output}\")"
   ]
  },
  {
   "cell_type": "code",
   "execution_count": null,
   "id": "62c0dc73",
   "metadata": {},
   "outputs": [],
   "source": []
  }
 ],
 "metadata": {
  "kernelspec": {
   "display_name": ".venv",
   "language": "python",
   "name": "python3"
  },
  "language_info": {
   "codemirror_mode": {
    "name": "ipython",
    "version": 3
   },
   "file_extension": ".py",
   "mimetype": "text/x-python",
   "name": "python",
   "nbconvert_exporter": "python",
   "pygments_lexer": "ipython3",
   "version": "3.12.11"
  }
 },
 "nbformat": 4,
 "nbformat_minor": 5
}
